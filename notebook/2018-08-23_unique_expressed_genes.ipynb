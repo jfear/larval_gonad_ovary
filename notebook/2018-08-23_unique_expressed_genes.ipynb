{
 "cells": [
  {
   "cell_type": "code",
   "execution_count": 2,
   "metadata": {},
   "outputs": [],
   "source": [
    "import os\n",
    "import sys\n",
    "from pathlib import Path\n",
    "\n",
    "from IPython.display import display, HTML, Markdown\n",
    "import numpy as np\n",
    "import pandas as pd\n",
    "\n",
    "import matplotlib as mpl\n",
    "import matplotlib.pyplot as plt\n",
    "import seaborn as sns\n",
    "\n",
    "# Project level imports\n",
    "from larval_gonad_ovary.notebook import Nb\n",
    "from larval_gonad_ovary.plotting import make_figs\n",
    "from larval_gonad_ovary.config import memory"
   ]
  },
  {
   "cell_type": "code",
   "execution_count": 3,
   "metadata": {},
   "outputs": [
    {
     "name": "stdout",
     "output_type": "stream",
     "text": [
      "last updated: 2018-08-23 \n",
      "Git hash: eb7e3486aa1ed6cc3c23658afd54dacdb200f517\n"
     ]
    }
   ],
   "source": [
    "# Setup notebook\n",
    "nbconfig = Nb.setup_notebook(seurat_dir='../output/scrnaseq-wf/scrnaseq_combine_force')"
   ]
  },
  {
   "cell_type": "code",
   "execution_count": 4,
   "metadata": {},
   "outputs": [],
   "source": [
    "raw = pd.read_parquet('../output/scrnaseq-wf/raw.parquet')"
   ]
  },
  {
   "cell_type": "code",
   "execution_count": 6,
   "metadata": {},
   "outputs": [],
   "source": [
    "clusters = pd.read_parquet('../output/scrnaseq-wf/clusters.res.0.4.parquet')"
   ]
  },
  {
   "cell_type": "code",
   "execution_count": 11,
   "metadata": {},
   "outputs": [],
   "source": [
    "raw_agg = raw.T.join(clusters).groupby('cluster').sum().T"
   ]
  },
  {
   "cell_type": "code",
   "execution_count": 12,
   "metadata": {},
   "outputs": [
    {
     "data": {
      "text/html": [
       "<div>\n",
       "<style scoped>\n",
       "    .dataframe tbody tr th:only-of-type {\n",
       "        vertical-align: middle;\n",
       "    }\n",
       "\n",
       "    .dataframe tbody tr th {\n",
       "        vertical-align: top;\n",
       "    }\n",
       "\n",
       "    .dataframe thead th {\n",
       "        text-align: right;\n",
       "    }\n",
       "</style>\n",
       "<table border=\"1\" class=\"dataframe\">\n",
       "  <thead>\n",
       "    <tr style=\"text-align: right;\">\n",
       "      <th>cluster</th>\n",
       "      <th>0</th>\n",
       "      <th>1</th>\n",
       "      <th>2</th>\n",
       "      <th>3</th>\n",
       "      <th>4</th>\n",
       "      <th>5</th>\n",
       "      <th>6</th>\n",
       "      <th>7</th>\n",
       "      <th>8</th>\n",
       "      <th>9</th>\n",
       "    </tr>\n",
       "  </thead>\n",
       "  <tbody>\n",
       "    <tr>\n",
       "      <th>FBgn0031081</th>\n",
       "      <td>72</td>\n",
       "      <td>24</td>\n",
       "      <td>25</td>\n",
       "      <td>49</td>\n",
       "      <td>5</td>\n",
       "      <td>8</td>\n",
       "      <td>11</td>\n",
       "      <td>13</td>\n",
       "      <td>0</td>\n",
       "      <td>0</td>\n",
       "    </tr>\n",
       "    <tr>\n",
       "      <th>FBgn0053217</th>\n",
       "      <td>722</td>\n",
       "      <td>195</td>\n",
       "      <td>298</td>\n",
       "      <td>455</td>\n",
       "      <td>31</td>\n",
       "      <td>157</td>\n",
       "      <td>117</td>\n",
       "      <td>78</td>\n",
       "      <td>2</td>\n",
       "      <td>1</td>\n",
       "    </tr>\n",
       "    <tr>\n",
       "      <th>FBgn0052350</th>\n",
       "      <td>266</td>\n",
       "      <td>83</td>\n",
       "      <td>131</td>\n",
       "      <td>128</td>\n",
       "      <td>7</td>\n",
       "      <td>80</td>\n",
       "      <td>30</td>\n",
       "      <td>29</td>\n",
       "      <td>0</td>\n",
       "      <td>1</td>\n",
       "    </tr>\n",
       "    <tr>\n",
       "      <th>FBgn0024733</th>\n",
       "      <td>98060</td>\n",
       "      <td>25432</td>\n",
       "      <td>39446</td>\n",
       "      <td>57174</td>\n",
       "      <td>3662</td>\n",
       "      <td>18388</td>\n",
       "      <td>16336</td>\n",
       "      <td>11660</td>\n",
       "      <td>322</td>\n",
       "      <td>244</td>\n",
       "    </tr>\n",
       "    <tr>\n",
       "      <th>FBgn0040372</th>\n",
       "      <td>1260</td>\n",
       "      <td>349</td>\n",
       "      <td>628</td>\n",
       "      <td>747</td>\n",
       "      <td>53</td>\n",
       "      <td>332</td>\n",
       "      <td>178</td>\n",
       "      <td>135</td>\n",
       "      <td>3</td>\n",
       "      <td>3</td>\n",
       "    </tr>\n",
       "  </tbody>\n",
       "</table>\n",
       "</div>"
      ],
      "text/plain": [
       "cluster          0      1      2      3     4      5      6      7    8    9\n",
       "FBgn0031081     72     24     25     49     5      8     11     13    0    0\n",
       "FBgn0053217    722    195    298    455    31    157    117     78    2    1\n",
       "FBgn0052350    266     83    131    128     7     80     30     29    0    1\n",
       "FBgn0024733  98060  25432  39446  57174  3662  18388  16336  11660  322  244\n",
       "FBgn0040372   1260    349    628    747    53    332    178    135    3    3"
      ]
     },
     "execution_count": 12,
     "metadata": {},
     "output_type": "execute_result"
    }
   ],
   "source": [
    "raw_agg.head()"
   ]
  },
  {
   "cell_type": "code",
   "execution_count": 15,
   "metadata": {},
   "outputs": [],
   "source": [
    "unique = raw_agg[(raw_agg == 0).sum(axis=1) == 9]"
   ]
  },
  {
   "cell_type": "code",
   "execution_count": 20,
   "metadata": {},
   "outputs": [],
   "source": [
    "unique = unique.reindex(unique.max(axis=1).sort_values(ascending=False).index)"
   ]
  },
  {
   "cell_type": "code",
   "execution_count": 24,
   "metadata": {},
   "outputs": [],
   "source": [
    "unique = unique.assign(gene_symbol=[nbconfig.fbgn2symbol[x] for x in unique.index]).set_index('gene_symbol', append=True)"
   ]
  },
  {
   "cell_type": "code",
   "execution_count": 26,
   "metadata": {},
   "outputs": [],
   "source": [
    "unique.to_csv('../output/ovary_germcell_unique_genes.tsv', sep='\\t')"
   ]
  },
  {
   "cell_type": "code",
   "execution_count": null,
   "metadata": {},
   "outputs": [],
   "source": []
  }
 ],
 "metadata": {
  "kernelspec": {
   "display_name": "Python [conda env:larval_gonad_ovary]",
   "language": "python",
   "name": "conda-env-larval_gonad_ovary-py"
  },
  "language_info": {
   "codemirror_mode": {
    "name": "ipython",
    "version": 3
   },
   "file_extension": ".py",
   "mimetype": "text/x-python",
   "name": "python",
   "nbconvert_exporter": "python",
   "pygments_lexer": "ipython3",
   "version": "3.6.5"
  }
 },
 "nbformat": 4,
 "nbformat_minor": 2
}
